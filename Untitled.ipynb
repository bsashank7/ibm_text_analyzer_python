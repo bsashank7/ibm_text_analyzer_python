{
 "cells": [
  {
   "cell_type": "code",
   "execution_count": 24,
   "metadata": {},
   "outputs": [],
   "source": [
    "text='this is so disgusting'"
   ]
  },
  {
   "cell_type": "code",
   "execution_count": 21,
   "metadata": {},
   "outputs": [],
   "source": [
    "#!pip install PyJWT==1.7.1\n"
   ]
  },
  {
   "cell_type": "code",
   "execution_count": 25,
   "metadata": {},
   "outputs": [
    {
     "name": "stdout",
     "output_type": "stream",
     "text": [
      "Fear\n"
     ]
    }
   ],
   "source": [
    "from ibm_watson import ToneAnalyzerV3\n",
    "from ibm_cloud_sdk_core.authenticators import IAMAuthenticator\n",
    "\n",
    "authenticator = IAMAuthenticator('VDDyBH9uCNhaX13ZNTh6KHg3DGVPW6XJpPyjl3XkE0QV')\n",
    "tone_analyzer = ToneAnalyzerV3(\n",
    "    version={'2017-09-21'},\n",
    "    authenticator=authenticator\n",
    ")\n",
    "\n",
    "tone_analyzer.set_service_url('https://api.eu-gb.tone-analyzer.watson.cloud.ibm.com/instances/ec037f03-517d-4c25-acc5-b02033dc8ece')\n",
    "tone_analysis = tone_analyzer.tone(text,\n",
    "    content_type='text/plain'\n",
    ").get_result()\n",
    "print(tone_analysis['document_tone']['tones'][0]['tone_name'])"
   ]
  },
  {
   "cell_type": "code",
   "execution_count": null,
   "metadata": {},
   "outputs": [],
   "source": []
  }
 ],
 "metadata": {
  "kernelspec": {
   "display_name": "Python 3",
   "language": "python",
   "name": "python3"
  },
  "language_info": {
   "codemirror_mode": {
    "name": "ipython",
    "version": 3
   },
   "file_extension": ".py",
   "mimetype": "text/x-python",
   "name": "python",
   "nbconvert_exporter": "python",
   "pygments_lexer": "ipython3",
   "version": "3.7.3"
  }
 },
 "nbformat": 4,
 "nbformat_minor": 4
}
